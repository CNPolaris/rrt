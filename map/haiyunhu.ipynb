{
 "cells": [
  {
   "cell_type": "code",
   "execution_count": null,
   "metadata": {
    "collapsed": true
   },
   "outputs": [],
   "source": [
    "import geopandas as gp\n",
    "import matplotlib.pyplot as plt\n",
    "from shapely import geometry\n",
    "import math"
   ]
  },
  {
   "cell_type": "code",
   "execution_count": null,
   "outputs": [],
   "source": [
    "# 环湖数据处理\n",
    "lake_original_path = 'E:\\\\just\\\\海韵湖智能技术实验场\\\\原始数据\\\\data\\\\环湖数据.txt'\n",
    "lake_original_data = ''\n",
    "lake_points = []\n",
    "with open(lake_original_path) as f:\n",
    "    lake_original_data = f.read()\n",
    "is_first = True\n",
    "for xy in lake_original_data.split(';'):\n",
    "    x, _, y = xy.partition(',')\n",
    "    x = float(x.strip()) / 100\n",
    "    y = float(y.strip()) / 100\n",
    "    lake_points.append(geometry.Point(y, x))"
   ],
   "metadata": {
    "collapsed": false
   }
  },
  {
   "cell_type": "code",
   "execution_count": null,
   "outputs": [],
   "source": [
    "# 环湖要素处理\n",
    "lake_isSave = True\n",
    "# 创建线状要素\n",
    "lake_line = geometry.LineString(lake_points)\n",
    "lake_ = gp.GeoSeries(lake_line, crs='EPSG:4326')\n",
    "if lake_isSave:\n",
    "    lake_.to_file(\"E:\\\\just\\\\海韵湖智能技术实验场\\\\data\\\\boundary.shp\", driver='ESRI Shapefile', encoding='utf-8')\n",
    "# 记录边界条件\n",
    "x_min, y_min, x_max, y_max = lake_line.bounds[:4]\n",
    "# 绘图\n",
    "lake_.plot()\n",
    "plt.show()"
   ],
   "metadata": {
    "collapsed": false
   }
  },
  {
   "cell_type": "code",
   "execution_count": null,
   "outputs": [],
   "source": [
    "# 浮岛数据处理\n",
    "island_original_path = 'E:\\\\just\\\\海韵湖智能技术实验场\\\\原始数据\\\\data\\\\浮岛数据.txt'\n",
    "island_original_data = ''\n",
    "island_points = []\n",
    "with open(island_original_path) as f:\n",
    "    island_original_data = f.read()\n",
    "for xy in island_original_data.split(';'):\n",
    "    x, _, y = xy.partition(',')\n",
    "    x = float(x.strip()) / 100\n",
    "    y = float(y.strip()) / 100\n",
    "    island_points.append(geometry.Point(y, x))"
   ],
   "metadata": {
    "collapsed": false
   }
  },
  {
   "cell_type": "code",
   "execution_count": null,
   "outputs": [],
   "source": [
    "# 浮岛要素处理\n",
    "island_isSave = True\n",
    "# 创建线状要素\n",
    "island_line = geometry.LineString(island_points)\n",
    "island_ = gp.GeoSeries(island_line, crs='EPSG:4326')\n",
    "if island_isSave:\n",
    "    island_.to_file(\"E:\\\\just\\\\海韵湖智能技术实验场\\\\data\\\\island.shp\", driver='ESRI Shapefile', encoding='utf-8')\n",
    "# 绘图\n",
    "island_.plot()\n",
    "plt.show()"
   ],
   "metadata": {
    "collapsed": false
   }
  },
  {
   "cell_type": "code",
   "execution_count": null,
   "outputs": [],
   "source": [
    "# 栅格处理\n",
    "grid_isSave = True\n",
    "GRID_WIDTH = 0.009 * 2 / 100\n",
    "grid_rows_num = int(math.ceil((y_max - y_min) / float(GRID_WIDTH)))\n",
    "grid_columns_num = int(math.ceil((x_max - x_min) / float(GRID_WIDTH)))\n",
    "grids = []\n",
    "for r in range(grid_rows_num):\n",
    "    for c in range(grid_columns_num):\n",
    "        grid_4coords = []\n",
    "        # 左上角\n",
    "        x_lt = x_min + c * GRID_WIDTH\n",
    "        y_lt = y_max - r * GRID_WIDTH\n",
    "        # 右上角\n",
    "        x_rt = x_lt + GRID_WIDTH\n",
    "        y_rt = y_lt\n",
    "        # 左下角\n",
    "        x_lb = x_lt\n",
    "        y_lb = y_lt - GRID_WIDTH\n",
    "        # 右下角\n",
    "        x_rb = x_rt\n",
    "        y_rb = y_lb\n",
    "        # 边\n",
    "        grid_4coords.append(geometry.Point(x_lt,y_lt))\n",
    "        grid_4coords.append(geometry.Point(x_rt,y_rt))\n",
    "        grid_4coords.append(geometry.Point(x_rb,y_rb))\n",
    "        grid_4coords.append(geometry.Point(x_lb,y_lb))\n",
    "        grid_4coords.append(geometry.Point(x_lt,y_lt))\n",
    "        # 创建一个网格\n",
    "        grids.append(geometry.LineString(grid_4coords))\n",
    "grid_ = gp.GeoSeries(grids)\n",
    "grid_.to_csv('E:\\\\just\\\\海韵湖智能技术实验场\\\\data\\\\grids.csv',encoding='utf-8')\n",
    "if grid_isSave:\n",
    "    grid_.to_file('E:\\\\just\\\\海韵湖智能技术实验场\\\\data\\\\grids.shp',driver='ESRI Shapefile', encoding='utf-8')\n",
    "grid_.plot()\n",
    "plt.show()"
   ],
   "metadata": {
    "collapsed": false
   }
  },
  {
   "cell_type": "code",
   "execution_count": null,
   "outputs": [],
   "source": [
    "# 障碍物处理"
   ],
   "metadata": {
    "collapsed": false
   }
  },
  {
   "cell_type": "code",
   "execution_count": null,
   "outputs": [],
   "source": [
    "# 航迹处理"
   ],
   "metadata": {
    "collapsed": false
   }
  },
  {
   "cell_type": "code",
   "execution_count": null,
   "outputs": [],
   "source": [
    "# 要素叠加\n",
    "elements_isSave = False\n",
    "elements = [lake_line, island_line]\n",
    "elements += grids\n",
    "elements_ = gp.GeoSeries(elements)\n",
    "if elements_isSave:\n",
    "    elements_.to_file('E:\\\\just\\\\海韵湖智能技术实验场\\\\data\\\\elements.shp', driver='ESRI Shapefile', encoding='utf-8')\n",
    "elements_.plot()\n",
    "plt.show()"
   ],
   "metadata": {
    "collapsed": false
   }
  },
  {
   "cell_type": "code",
   "execution_count": null,
   "outputs": [],
   "source": [],
   "metadata": {
    "collapsed": false
   }
  }
 ],
 "metadata": {
  "kernelspec": {
   "display_name": "Python 3",
   "language": "python",
   "name": "python3"
  },
  "language_info": {
   "codemirror_mode": {
    "name": "ipython",
    "version": 2
   },
   "file_extension": ".py",
   "mimetype": "text/x-python",
   "name": "python",
   "nbconvert_exporter": "python",
   "pygments_lexer": "ipython2",
   "version": "2.7.6"
  }
 },
 "nbformat": 4,
 "nbformat_minor": 0
}
